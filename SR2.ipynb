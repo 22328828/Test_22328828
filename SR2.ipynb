{
 "cells": [
  {
   "cell_type": "code",
   "execution_count": 3,
   "id": "525d7ea5-15e6-49e7-a511-aa82a3581f4b",
   "metadata": {},
   "outputs": [],
   "source": [
    "import pandas as pd "
   ]
  },
  {
   "cell_type": "code",
   "execution_count": 24,
   "id": "1c3695b6-0ea1-4df3-9aef-3b73e26f3a4b",
   "metadata": {},
   "outputs": [
    {
     "name": "stdout",
     "output_type": "stream",
     "text": [
      "Missing values\n",
      "Country Name        0\n",
      "Country Code        0\n",
      "Indicator Name      0\n",
      "Indicator Code      0\n",
      "1960              266\n",
      "                 ... \n",
      "2020              169\n",
      "2021              266\n",
      "2022              266\n",
      "2023              266\n",
      "Unnamed: 68       266\n",
      "Length: 69, dtype: int64\n"
     ]
    }
   ],
   "source": [
    "file_path = 'C:/Users/TEMP.NDOCY.000/Desktop/API_EN.POP.SLUM.UR.ZS_DS2_en_csv_v2_289192.csv'\n",
    "df = pd.read_csv(file_path, skiprows=4)\n",
    "missing_values = df.isnull().sum()\n",
    "print(\"Missing values\")\n",
    "print(missing_values)"
   ]
  },
  {
   "cell_type": "code",
   "execution_count": 28,
   "id": "7e9ab3bd-5346-49ef-841b-b5652939fcb5",
   "metadata": {},
   "outputs": [
    {
     "name": "stdout",
     "output_type": "stream",
     "text": [
      "Dataset Info:\n",
      "<class 'pandas.core.frame.DataFrame'>\n",
      "RangeIndex: 266 entries, 0 to 265\n",
      "Data columns (total 69 columns):\n",
      " #   Column          Non-Null Count  Dtype  \n",
      "---  ------          --------------  -----  \n",
      " 0   Country Name    266 non-null    object \n",
      " 1   Country Code    266 non-null    object \n",
      " 2   Indicator Name  266 non-null    object \n",
      " 3   Indicator Code  266 non-null    object \n",
      " 4   1960            0 non-null      float64\n",
      " 5   1961            0 non-null      float64\n",
      " 6   1962            0 non-null      float64\n",
      " 7   1963            0 non-null      float64\n",
      " 8   1964            0 non-null      float64\n",
      " 9   1965            0 non-null      float64\n",
      " 10  1966            0 non-null      float64\n",
      " 11  1967            0 non-null      float64\n",
      " 12  1968            0 non-null      float64\n",
      " 13  1969            0 non-null      float64\n",
      " 14  1970            0 non-null      float64\n",
      " 15  1971            0 non-null      float64\n",
      " 16  1972            0 non-null      float64\n",
      " 17  1973            0 non-null      float64\n",
      " 18  1974            0 non-null      float64\n",
      " 19  1975            0 non-null      float64\n",
      " 20  1976            0 non-null      float64\n",
      " 21  1977            0 non-null      float64\n",
      " 22  1978            0 non-null      float64\n",
      " 23  1979            0 non-null      float64\n",
      " 24  1980            0 non-null      float64\n",
      " 25  1981            0 non-null      float64\n",
      " 26  1982            0 non-null      float64\n",
      " 27  1983            0 non-null      float64\n",
      " 28  1984            0 non-null      float64\n",
      " 29  1985            0 non-null      float64\n",
      " 30  1986            0 non-null      float64\n",
      " 31  1987            0 non-null      float64\n",
      " 32  1988            0 non-null      float64\n",
      " 33  1989            0 non-null      float64\n",
      " 34  1990            0 non-null      float64\n",
      " 35  1991            0 non-null      float64\n",
      " 36  1992            0 non-null      float64\n",
      " 37  1993            0 non-null      float64\n",
      " 38  1994            0 non-null      float64\n",
      " 39  1995            0 non-null      float64\n",
      " 40  1996            0 non-null      float64\n",
      " 41  1997            0 non-null      float64\n",
      " 42  1998            0 non-null      float64\n",
      " 43  1999            0 non-null      float64\n",
      " 44  2000            112 non-null    float64\n",
      " 45  2001            0 non-null      float64\n",
      " 46  2002            122 non-null    float64\n",
      " 47  2003            0 non-null      float64\n",
      " 48  2004            126 non-null    float64\n",
      " 49  2005            0 non-null      float64\n",
      " 50  2006            129 non-null    float64\n",
      " 51  2007            0 non-null      float64\n",
      " 52  2008            131 non-null    float64\n",
      " 53  2009            0 non-null      float64\n",
      " 54  2010            130 non-null    float64\n",
      " 55  2011            0 non-null      float64\n",
      " 56  2012            129 non-null    float64\n",
      " 57  2013            0 non-null      float64\n",
      " 58  2014            127 non-null    float64\n",
      " 59  2015            0 non-null      float64\n",
      " 60  2016            124 non-null    float64\n",
      " 61  2017            0 non-null      float64\n",
      " 62  2018            112 non-null    float64\n",
      " 63  2019            0 non-null      float64\n",
      " 64  2020            97 non-null     float64\n",
      " 65  2021            0 non-null      float64\n",
      " 66  2022            0 non-null      float64\n",
      " 67  2023            0 non-null      float64\n",
      " 68  Unnamed: 68     0 non-null      float64\n",
      "dtypes: float64(65), object(4)\n",
      "memory usage: 143.5+ KB\n",
      "None\n"
     ]
    }
   ],
   "source": [
    "print(\"Dataset Info:\")\n",
    "print(df.info())"
   ]
  },
  {
   "cell_type": "code",
   "execution_count": 30,
   "id": "a6d22549-51b4-405c-bb4d-7905372eab55",
   "metadata": {},
   "outputs": [
    {
     "name": "stdout",
     "output_type": "stream",
     "text": [
      "Brief description for our dataset\n",
      "       1960  1961  1962  1963  1964  1965  1966  1967  1968  1969  ...  2015  \\\n",
      "count   0.0   0.0   0.0   0.0   0.0   0.0   0.0   0.0   0.0   0.0  ...   0.0   \n",
      "mean    NaN   NaN   NaN   NaN   NaN   NaN   NaN   NaN   NaN   NaN  ...   NaN   \n",
      "std     NaN   NaN   NaN   NaN   NaN   NaN   NaN   NaN   NaN   NaN  ...   NaN   \n",
      "min     NaN   NaN   NaN   NaN   NaN   NaN   NaN   NaN   NaN   NaN  ...   NaN   \n",
      "25%     NaN   NaN   NaN   NaN   NaN   NaN   NaN   NaN   NaN   NaN  ...   NaN   \n",
      "50%     NaN   NaN   NaN   NaN   NaN   NaN   NaN   NaN   NaN   NaN  ...   NaN   \n",
      "75%     NaN   NaN   NaN   NaN   NaN   NaN   NaN   NaN   NaN   NaN  ...   NaN   \n",
      "max     NaN   NaN   NaN   NaN   NaN   NaN   NaN   NaN   NaN   NaN  ...   NaN   \n",
      "\n",
      "             2016  2017        2018  2019       2020  2021  2022  2023  \\\n",
      "count  124.000000   0.0  112.000000   0.0  97.000000   0.0   0.0   0.0   \n",
      "mean    36.490535   NaN   36.041763   NaN  36.571812   NaN   NaN   NaN   \n",
      "std     22.042602   NaN   21.318353   NaN  21.006753   NaN   NaN   NaN   \n",
      "min      0.899920   NaN    0.793760   NaN   0.793760   NaN   NaN   NaN   \n",
      "25%     16.158333   NaN   16.157332   NaN  16.500000   NaN   NaN   NaN   \n",
      "50%     38.719820   NaN   39.644385   NaN  39.600000   NaN   NaN   NaN   \n",
      "75%     53.328828   NaN   51.993110   NaN  52.600000   NaN   NaN   NaN   \n",
      "max     94.200000   NaN   82.000000   NaN  82.000000   NaN   NaN   NaN   \n",
      "\n",
      "       Unnamed: 68  \n",
      "count          0.0  \n",
      "mean           NaN  \n",
      "std            NaN  \n",
      "min            NaN  \n",
      "25%            NaN  \n",
      "50%            NaN  \n",
      "75%            NaN  \n",
      "max            NaN  \n",
      "\n",
      "[8 rows x 65 columns]\n"
     ]
    }
   ],
   "source": [
    "print(\"Brief description for our dataset\")\n",
    "print(df.describe())"
   ]
  },
  {
   "cell_type": "code",
   "execution_count": 29,
   "id": "c9deb68d-d46d-4c5c-83a2-6c0fce8febf5",
   "metadata": {},
   "outputs": [
    {
     "name": "stdout",
     "output_type": "stream",
     "text": [
      "Number of duplicate entries\n",
      "0\n"
     ]
    }
   ],
   "source": [
    "duplicates = df.duplicated().sum()\n",
    "print(\"Number of duplicate entries\")\n",
    "print(duplicates)"
   ]
  },
  {
   "cell_type": "code",
   "execution_count": 25,
   "id": "2ac48085-0943-4f7c-ae80-9b7d0813f52c",
   "metadata": {},
   "outputs": [
    {
     "name": "stdout",
     "output_type": "stream",
     "text": [
      "This is columns we have in a dataset\n",
      "Index(['Country Name', 'Country Code', 'Indicator Name', 'Indicator Code',\n",
      "       '1960', '1961', '1962', '1963', '1964', '1965', '1966', '1967', '1968',\n",
      "       '1969', '1970', '1971', '1972', '1973', '1974', '1975', '1976', '1977',\n",
      "       '1978', '1979', '1980', '1981', '1982', '1983', '1984', '1985', '1986',\n",
      "       '1987', '1988', '1989', '1990', '1991', '1992', '1993', '1994', '1995',\n",
      "       '1996', '1997', '1998', '1999', '2000', '2001', '2002', '2003', '2004',\n",
      "       '2005', '2006', '2007', '2008', '2009', '2010', '2011', '2012', '2013',\n",
      "       '2014', '2015', '2016', '2017', '2018', '2019', '2020', '2021', '2022',\n",
      "       '2023', 'Unnamed: 68'],\n",
      "      dtype='object')\n"
     ]
    }
   ],
   "source": [
    "columns = df.columns\n",
    "print(\"This is columns we have in a dataset\")\n",
    "print(columns)"
   ]
  },
  {
   "cell_type": "code",
   "execution_count": 26,
   "id": "95daeb8f-8c0c-46f9-ad31-64623d7b9c6f",
   "metadata": {},
   "outputs": [
    {
     "name": "stdout",
     "output_type": "stream",
     "text": [
      "This is the size we have in our dataFrame\n",
      "18354\n"
     ]
    }
   ],
   "source": [
    "size = df.size\n",
    "print(\"This is the size we have in our dataFrame\")\n",
    "print(size)"
   ]
  },
  {
   "cell_type": "code",
   "execution_count": 23,
   "id": "779338be-bd47-48ed-bb66-48e0679c92ff",
   "metadata": {},
   "outputs": [
    {
     "name": "stdout",
     "output_type": "stream",
     "text": [
      "This is our types of data we have\n",
      "Country Name       object\n",
      "Country Code       object\n",
      "Indicator Name     object\n",
      "Indicator Code     object\n",
      "1960              float64\n",
      "                   ...   \n",
      "2020              float64\n",
      "2021              float64\n",
      "2022              float64\n",
      "2023              float64\n",
      "Unnamed: 68       float64\n",
      "Length: 69, dtype: object\n"
     ]
    }
   ],
   "source": [
    "dypes = df.dtypes\n",
    "print(\"This is our types of data we have\")\n",
    "print(dypes)"
   ]
  },
  {
   "cell_type": "code",
   "execution_count": 27,
   "id": "8b25dafd-9462-4059-abb1-a905c87da653",
   "metadata": {},
   "outputs": [
    {
     "name": "stdout",
     "output_type": "stream",
     "text": [
      "Shape\n",
      "(266, 69)\n"
     ]
    }
   ],
   "source": [
    "shape = df.shape\n",
    "print(\"Shape\")\n",
    "print(shape)"
   ]
  },
  {
   "cell_type": "code",
   "execution_count": 32,
   "id": "ff2f772a-c315-4720-9a0a-b9679aad48cd",
   "metadata": {},
   "outputs": [
    {
     "name": "stdout",
     "output_type": "stream",
     "text": [
      "First 5 Rows of the Dataset\n",
      "                  Country Name Country Code  \\\n",
      "0                        Aruba          ABW   \n",
      "1  Africa Eastern and Southern          AFE   \n",
      "2                  Afghanistan          AFG   \n",
      "3   Africa Western and Central          AFW   \n",
      "4                       Angola          AGO   \n",
      "\n",
      "                                      Indicator Name     Indicator Code  1960  \\\n",
      "0  Population living in slums (% of urban populat...  EN.POP.SLUM.UR.ZS   NaN   \n",
      "1  Population living in slums (% of urban populat...  EN.POP.SLUM.UR.ZS   NaN   \n",
      "2  Population living in slums (% of urban populat...  EN.POP.SLUM.UR.ZS   NaN   \n",
      "3  Population living in slums (% of urban populat...  EN.POP.SLUM.UR.ZS   NaN   \n",
      "4  Population living in slums (% of urban populat...  EN.POP.SLUM.UR.ZS   NaN   \n",
      "\n",
      "   1961  1962  1963  1964  1965  ...  2015       2016  2017       2018  2019  \\\n",
      "0   NaN   NaN   NaN   NaN   NaN  ...   NaN        NaN   NaN        NaN   NaN   \n",
      "1   NaN   NaN   NaN   NaN   NaN  ...   NaN  55.348711   NaN  54.672940   NaN   \n",
      "2   NaN   NaN   NaN   NaN   NaN  ...   NaN  72.128630   NaN  73.300000   NaN   \n",
      "3   NaN   NaN   NaN   NaN   NaN  ...   NaN  51.120997   NaN  48.698234   NaN   \n",
      "4   NaN   NaN   NaN   NaN   NaN  ...   NaN  56.449530   NaN  62.581050   NaN   \n",
      "\n",
      "        2020  2021  2022  2023  Unnamed: 68  \n",
      "0        NaN   NaN   NaN   NaN          NaN  \n",
      "1  54.386351   NaN   NaN   NaN          NaN  \n",
      "2  73.300000   NaN   NaN   NaN          NaN  \n",
      "3  46.257180   NaN   NaN   NaN          NaN  \n",
      "4  62.600000   NaN   NaN   NaN          NaN  \n",
      "\n",
      "[5 rows x 69 columns]\n"
     ]
    }
   ],
   "source": [
    "print(\"First 5 Rows of the Dataset\")\n",
    "print(df.head())"
   ]
  },
  {
   "cell_type": "code",
   "execution_count": null,
   "id": "7eda321b-c077-4266-9784-06accb0fd856",
   "metadata": {},
   "outputs": [],
   "source": []
  }
 ],
 "metadata": {
  "kernelspec": {
   "display_name": "Python 3 (ipykernel)",
   "language": "python",
   "name": "python3"
  },
  "language_info": {
   "codemirror_mode": {
    "name": "ipython",
    "version": 3
   },
   "file_extension": ".py",
   "mimetype": "text/x-python",
   "name": "python",
   "nbconvert_exporter": "python",
   "pygments_lexer": "ipython3",
   "version": "3.12.3"
  }
 },
 "nbformat": 4,
 "nbformat_minor": 5
}
