{
 "cells": [
  {
   "cell_type": "code",
   "execution_count": 13,
   "id": "cd5264af-4f0d-4d83-8ee8-b2d121fd6523",
   "metadata": {},
   "outputs": [
    {
     "name": "stdout",
     "output_type": "stream",
     "text": [
      "This values are sorted in ascending order:\n",
      "0          NaN\n",
      "1    44.186480\n",
      "2    56.315351\n",
      "3    56.906810\n",
      "4    67.247950\n",
      "Name: 2012, dtype: float64\n"
     ]
    },
    {
     "name": "stderr",
     "output_type": "stream",
     "text": [
      "C:\\Users\\TEMP.NDOCY.000\\AppData\\Local\\Temp\\ipykernel_23400\\3860922398.py:26: SettingWithCopyWarning: \n",
      "A value is trying to be set on a copy of a slice from a DataFrame\n",
      "\n",
      "See the caveats in the documentation: https://pandas.pydata.org/pandas-docs/stable/user_guide/indexing.html#returning-a-view-versus-a-copy\n",
      "  values[j] = values[j+1]\n",
      "C:\\Users\\TEMP.NDOCY.000\\AppData\\Local\\Temp\\ipykernel_23400\\3860922398.py:27: SettingWithCopyWarning: \n",
      "A value is trying to be set on a copy of a slice from a DataFrame\n",
      "\n",
      "See the caveats in the documentation: https://pandas.pydata.org/pandas-docs/stable/user_guide/indexing.html#returning-a-view-versus-a-copy\n",
      "  values[j+1] = temp\n",
      "C:\\Users\\TEMP.NDOCY.000\\AppData\\Local\\Temp\\ipykernel_23400\\3860922398.py:26: SettingWithCopyWarning: \n",
      "A value is trying to be set on a copy of a slice from a DataFrame\n",
      "\n",
      "See the caveats in the documentation: https://pandas.pydata.org/pandas-docs/stable/user_guide/indexing.html#returning-a-view-versus-a-copy\n",
      "  values[j] = values[j+1]\n",
      "C:\\Users\\TEMP.NDOCY.000\\AppData\\Local\\Temp\\ipykernel_23400\\3860922398.py:27: SettingWithCopyWarning: \n",
      "A value is trying to be set on a copy of a slice from a DataFrame\n",
      "\n",
      "See the caveats in the documentation: https://pandas.pydata.org/pandas-docs/stable/user_guide/indexing.html#returning-a-view-versus-a-copy\n",
      "  values[j+1] = temp\n",
      "C:\\Users\\TEMP.NDOCY.000\\AppData\\Local\\Temp\\ipykernel_23400\\3860922398.py:26: SettingWithCopyWarning: \n",
      "A value is trying to be set on a copy of a slice from a DataFrame\n",
      "\n",
      "See the caveats in the documentation: https://pandas.pydata.org/pandas-docs/stable/user_guide/indexing.html#returning-a-view-versus-a-copy\n",
      "  values[j] = values[j+1]\n",
      "C:\\Users\\TEMP.NDOCY.000\\AppData\\Local\\Temp\\ipykernel_23400\\3860922398.py:27: SettingWithCopyWarning: \n",
      "A value is trying to be set on a copy of a slice from a DataFrame\n",
      "\n",
      "See the caveats in the documentation: https://pandas.pydata.org/pandas-docs/stable/user_guide/indexing.html#returning-a-view-versus-a-copy\n",
      "  values[j+1] = temp\n",
      "C:\\Users\\TEMP.NDOCY.000\\AppData\\Local\\Temp\\ipykernel_23400\\3860922398.py:26: SettingWithCopyWarning: \n",
      "A value is trying to be set on a copy of a slice from a DataFrame\n",
      "\n",
      "See the caveats in the documentation: https://pandas.pydata.org/pandas-docs/stable/user_guide/indexing.html#returning-a-view-versus-a-copy\n",
      "  values[j] = values[j+1]\n",
      "C:\\Users\\TEMP.NDOCY.000\\AppData\\Local\\Temp\\ipykernel_23400\\3860922398.py:27: SettingWithCopyWarning: \n",
      "A value is trying to be set on a copy of a slice from a DataFrame\n",
      "\n",
      "See the caveats in the documentation: https://pandas.pydata.org/pandas-docs/stable/user_guide/indexing.html#returning-a-view-versus-a-copy\n",
      "  values[j+1] = temp\n",
      "C:\\Users\\TEMP.NDOCY.000\\AppData\\Local\\Temp\\ipykernel_23400\\3860922398.py:26: SettingWithCopyWarning: \n",
      "A value is trying to be set on a copy of a slice from a DataFrame\n",
      "\n",
      "See the caveats in the documentation: https://pandas.pydata.org/pandas-docs/stable/user_guide/indexing.html#returning-a-view-versus-a-copy\n",
      "  values[j] = values[j+1]\n",
      "C:\\Users\\TEMP.NDOCY.000\\AppData\\Local\\Temp\\ipykernel_23400\\3860922398.py:27: SettingWithCopyWarning: \n",
      "A value is trying to be set on a copy of a slice from a DataFrame\n",
      "\n",
      "See the caveats in the documentation: https://pandas.pydata.org/pandas-docs/stable/user_guide/indexing.html#returning-a-view-versus-a-copy\n",
      "  values[j+1] = temp\n"
     ]
    }
   ],
   "source": [
    "import pandas as pd\n",
    "\n",
    "# File path to the CSV file\n",
    "file_path = 'C:/Users/TEMP.NDOCY.000/Desktop/API_EN.POP.SLUM.UR.ZS_DS2_en_csv_v2_289192.csv'\n",
    "\n",
    "# Read the CSV file into a DataFrame\n",
    "df = pd.read_csv(file_path, skiprows=4)\n",
    "\n",
    "# Specify the column of interest (year)\n",
    "year_column = '2012'\n",
    "\n",
    "first_five = df.head(5)\n",
    "\n",
    "countries = first_five['Country Name']\n",
    "values = first_five[year_column]\n",
    "\n",
    "def b_sort(values):\n",
    "    n = len(values)\n",
    "    for i in range(n - 1):\n",
    "        for j in range(0, n - i - 1):\n",
    "            if values[j] > values[j + 1]:\n",
    "               temp = values[j]\n",
    "               values[j] = values[j+1]\n",
    "               values[j+1] = temp\n",
    "b_sort(values)\n",
    "print(\"This values are sorted in ascending order:\")\n",
    "print(values)"
   ]
  },
  {
   "cell_type": "code",
   "execution_count": null,
   "id": "73973ee4-3c77-45c5-b854-8c79de1ac988",
   "metadata": {},
   "outputs": [],
   "source": []
  },
  {
   "cell_type": "code",
   "execution_count": null,
   "id": "3919e2f3-43a7-488a-a93e-91889381b52a",
   "metadata": {},
   "outputs": [],
   "source": []
  }
 ],
 "metadata": {
  "kernelspec": {
   "display_name": "Python 3 (ipykernel)",
   "language": "python",
   "name": "python3"
  },
  "language_info": {
   "codemirror_mode": {
    "name": "ipython",
    "version": 3
   },
   "file_extension": ".py",
   "mimetype": "text/x-python",
   "name": "python",
   "nbconvert_exporter": "python",
   "pygments_lexer": "ipython3",
   "version": "3.12.3"
  }
 },
 "nbformat": 4,
 "nbformat_minor": 5
}
