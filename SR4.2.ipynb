{
 "cells": [
  {
   "cell_type": "code",
   "execution_count": 22,
   "id": "a241c44a-871a-431a-9aba-4d3004a1a84d",
   "metadata": {},
   "outputs": [],
   "source": [
    "import pandas as pd\n",
    "file_path = 'C:/Users/TEMP.NDOCY.000/Desktop/API_EN.POP.SLUM.UR.ZS_DS2_en_csv_v2_289192.csv'\n",
    "\n",
    "df = pd.read_csv(file_path, skiprows=4)\n",
    "year_column = '2012'\n",
    "\n",
    "first_five = df.head(5)\n",
    "countries = first_five['Country Name']\n",
    "values = first_five[year_column]"
   ]
  },
  {
   "cell_type": "code",
   "execution_count": 23,
   "id": "86ea17d4-3857-46f2-973f-cbd83c274ef4",
   "metadata": {},
   "outputs": [
    {
     "name": "stdout",
     "output_type": "stream",
     "text": [
      "Found at position 5\n"
     ]
    }
   ],
   "source": [
    "pos = -1\n",
    "\n",
    "def search(values, n):\n",
    "    global pos\n",
    "    for i in range(len(values)):\n",
    "        if values[i] == n:\n",
    "            pos = i\n",
    "            return True\n",
    "    return False\n",
    "\n",
    "n = 44.18648\n",
    "\n",
    "\n",
    "if search(values, n):\n",
    "    print(\"Found at position\", pos + 1)\n",
    "else:\n",
    "    print(\"Not found\")\n"
   ]
  },
  {
   "cell_type": "code",
   "execution_count": 24,
   "id": "400f9352-e652-4874-91c7-468cf72d8ba7",
   "metadata": {},
   "outputs": [
    {
     "name": "stdout",
     "output_type": "stream",
     "text": [
      "Not found\n"
     ]
    }
   ],
   "source": [
    "pos = -1\n",
    "\n",
    "def binary_search(values, n):\n",
    "    global pos\n",
    "    low, high = 0, len(values) - 1\n",
    "    \n",
    "    while low <= high:\n",
    "        mid = (low + high) // 2\n",
    "        if values[mid] == n:\n",
    "            pos = mid\n",
    "            return True\n",
    "        elif values[mid] < n:\n",
    "            low = mid + 1\n",
    "        else:\n",
    "            high = mid - 1\n",
    "    return False\n",
    "\n",
    "n = 3\n",
    "\n",
    "if binary_search(sorted_values, n):\n",
    "    print(\"Found at position\", pos + 1)\n",
    "   \n",
    "else:\n",
    "    print(\"Not found\")\n",
    "\n"
   ]
  }
 ],
 "metadata": {
  "kernelspec": {
   "display_name": "Python 3 (ipykernel)",
   "language": "python",
   "name": "python3"
  },
  "language_info": {
   "codemirror_mode": {
    "name": "ipython",
    "version": 3
   },
   "file_extension": ".py",
   "mimetype": "text/x-python",
   "name": "python",
   "nbconvert_exporter": "python",
   "pygments_lexer": "ipython3",
   "version": "3.12.3"
  }
 },
 "nbformat": 4,
 "nbformat_minor": 5
}
